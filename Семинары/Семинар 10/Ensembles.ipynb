{
 "cells": [
  {
   "cell_type": "markdown",
   "metadata": {},
   "source": [
    "# Решающие деревья, решающие леса и градиентный бустинг."
   ]
  },
  {
   "cell_type": "markdown",
   "metadata": {},
   "source": [
    "## 1. Решающее дерево vs решающий лес. \n",
    "\n",
    "Будем сравнивать эти алгоритмы на примере задачи регрессии: задачи предсказания стоимости домов в Бостоне."
   ]
  },
  {
   "cell_type": "code",
   "execution_count": 1,
   "metadata": {
    "scrolled": true
   },
   "outputs": [
    {
     "name": "stdout",
     "output_type": "stream",
     "text": [
      ".. _boston_dataset:\n",
      "\n",
      "Boston house prices dataset\n",
      "---------------------------\n",
      "\n",
      "**Data Set Characteristics:**  \n",
      "\n",
      "    :Number of Instances: 506 \n",
      "\n",
      "    :Number of Attributes: 13 numeric/categorical predictive. Median Value (attribute 14) is usually the target.\n",
      "\n",
      "    :Attribute Information (in order):\n",
      "        - CRIM     per capita crime rate by town\n",
      "        - ZN       proportion of residential land zoned for lots over 25,000 sq.ft.\n",
      "        - INDUS    proportion of non-retail business acres per town\n",
      "        - CHAS     Charles River dummy variable (= 1 if tract bounds river; 0 otherwise)\n",
      "        - NOX      nitric oxides concentration (parts per 10 million)\n",
      "        - RM       average number of rooms per dwelling\n",
      "        - AGE      proportion of owner-occupied units built prior to 1940\n",
      "        - DIS      weighted distances to five Boston employment centres\n",
      "        - RAD      index of accessibility to radial highways\n",
      "        - TAX      full-value property-tax rate per $10,000\n",
      "        - PTRATIO  pupil-teacher ratio by town\n",
      "        - B        1000(Bk - 0.63)^2 where Bk is the proportion of blacks by town\n",
      "        - LSTAT    % lower status of the population\n",
      "        - MEDV     Median value of owner-occupied homes in $1000's\n",
      "\n",
      "    :Missing Attribute Values: None\n",
      "\n",
      "    :Creator: Harrison, D. and Rubinfeld, D.L.\n",
      "\n",
      "This is a copy of UCI ML housing dataset.\n",
      "https://archive.ics.uci.edu/ml/machine-learning-databases/housing/\n",
      "\n",
      "\n",
      "This dataset was taken from the StatLib library which is maintained at Carnegie Mellon University.\n",
      "\n",
      "The Boston house-price data of Harrison, D. and Rubinfeld, D.L. 'Hedonic\n",
      "prices and the demand for clean air', J. Environ. Economics & Management,\n",
      "vol.5, 81-102, 1978.   Used in Belsley, Kuh & Welsch, 'Regression diagnostics\n",
      "...', Wiley, 1980.   N.B. Various transformations are used in the table on\n",
      "pages 244-261 of the latter.\n",
      "\n",
      "The Boston house-price data has been used in many machine learning papers that address regression\n",
      "problems.   \n",
      "     \n",
      ".. topic:: References\n",
      "\n",
      "   - Belsley, Kuh & Welsch, 'Regression diagnostics: Identifying Influential Data and Sources of Collinearity', Wiley, 1980. 244-261.\n",
      "   - Quinlan,R. (1993). Combining Instance-Based and Model-Based Learning. In Proceedings on the Tenth International Conference of Machine Learning, 236-243, University of Massachusetts, Amherst. Morgan Kaufmann.\n",
      "\n"
     ]
    }
   ],
   "source": [
    "from sklearn.datasets import load_boston\n",
    "\n",
    "data = load_boston()\n",
    "print(data.DESCR)"
   ]
  },
  {
   "cell_type": "code",
   "execution_count": 2,
   "metadata": {},
   "outputs": [],
   "source": [
    "X_full = data.data\n",
    "y_full = data.target"
   ]
  },
  {
   "cell_type": "code",
   "execution_count": 3,
   "metadata": {},
   "outputs": [
    {
     "data": {
      "text/plain": [
       "(506, 13)"
      ]
     },
     "execution_count": 3,
     "metadata": {},
     "output_type": "execute_result"
    }
   ],
   "source": [
    "X_full.shape"
   ]
  },
  {
   "cell_type": "code",
   "execution_count": 4,
   "metadata": {},
   "outputs": [
    {
     "data": {
      "text/plain": [
       "array([24. , 21.6, 34.7, 33.4, 36.2, 28.7, 22.9, 27.1, 16.5, 18.9])"
      ]
     },
     "execution_count": 4,
     "metadata": {},
     "output_type": "execute_result"
    }
   ],
   "source": [
    "y_full[:10]"
   ]
  },
  {
   "cell_type": "markdown",
   "metadata": {},
   "source": [
    "Будем оценивать качество алгоритмов по кросс-валидации."
   ]
  },
  {
   "cell_type": "code",
   "execution_count": 5,
   "metadata": {},
   "outputs": [
    {
     "name": "stdout",
     "output_type": "stream",
     "text": [
      "-1.5841985220996833\n"
     ]
    }
   ],
   "source": [
    "from sklearn.linear_model import LinearRegression\n",
    "from sklearn.model_selection import cross_val_score\n",
    "from sklearn.metrics import r2_score\n",
    "\n",
    "model_lin = LinearRegression()\n",
    "\n",
    "score = cross_val_score(model_lin, X_full, y_full, cv=3, scoring='r2').mean()\n",
    "\n",
    "print(score)"
   ]
  },
  {
   "cell_type": "markdown",
   "metadata": {},
   "source": [
    "### Задание 1.\n",
    "\n",
    "Посмотрите на качество решающего дерева на кросс-валидации. Запустите ячейку несколько раз и посмотрите, меняется ли качество."
   ]
  },
  {
   "cell_type": "code",
   "execution_count": 9,
   "metadata": {},
   "outputs": [
    {
     "name": "stdout",
     "output_type": "stream",
     "text": [
      "0.3493220387287743\n"
     ]
    }
   ],
   "source": [
    "from sklearn.tree import DecisionTreeRegressor\n",
    "\n",
    "model_dt = DecisionTreeRegressor()\n",
    "\n",
    "score = cross_val_score(model_dt, X_full, y_full, cv=3, scoring='r2').mean()\n",
    "\n",
    "print(score)"
   ]
  },
  {
   "cell_type": "markdown",
   "metadata": {},
   "source": [
    "### Задание 2.\n",
    "\n",
    "Посмотрите на качество случайного леса на кросс-валидации. Запустите ячейку несколько раз и посмотрите, меняется ли качество."
   ]
  },
  {
   "cell_type": "code",
   "execution_count": 13,
   "metadata": {},
   "outputs": [
    {
     "name": "stdout",
     "output_type": "stream",
     "text": [
      "0.5606537231375862\n"
     ]
    }
   ],
   "source": [
    "from sklearn.ensemble import RandomForestRegressor\n",
    "\n",
    "model_rf = RandomForestRegressor()\n",
    "\n",
    "score = cross_val_score(model_rf, X_full, y_full, cv=3, scoring='r2').mean()\n",
    "\n",
    "print(score)"
   ]
  },
  {
   "cell_type": "markdown",
   "metadata": {},
   "source": [
    "Подберём параметры у случайного леса:\n",
    "    \n",
    "    * n_estimators - число деревьев в лесе\n",
    "    * max_depth - максимальная глубина деревьев\n",
    "    * max_features - максимальное число признаков для построения каждого дерева\n",
    "    * min_samples_split - минимальное число объектов, необходимое для разбиения внутренней вершины\n",
    "    \n",
    "и другие, см. https://scikit-learn.org/stable/modules/generated/sklearn.ensemble.RandomForestRegressor.html\n",
    "\n",
    "Самый важный параметр - число деревьев в лесе. Начнём с него.\n",
    "\n",
    "### Задание 3. \n",
    "\n",
    "Постройте лес из 10, 100, 500 и 1000 деревьев и посмотрите на r2 на кросс-валидации.\n",
    "\n",
    "Примените цикл по количеству деревьев."
   ]
  },
  {
   "cell_type": "code",
   "execution_count": 14,
   "metadata": {},
   "outputs": [
    {
     "name": "stdout",
     "output_type": "stream",
     "text": [
      "n_estimators: 10\n",
      "r2: 0.5599157228899359\n",
      "n_estimators: 100\n",
      "r2: 0.5394352541386024\n",
      "n_estimators: 500\n",
      "r2: 0.5544174647024037\n",
      "n_estimators: 1000\n",
      "r2: 0.5567371434556286\n",
      "n_estimators: 10000\n",
      "r2: 0.5558329896841806\n"
     ]
    }
   ],
   "source": [
    "for n in [10, 100, 500, 1000, 10000]:\n",
    "    print('n_estimators:', n)\n",
    "    \n",
    "    model_rf = RandomForestRegressor(n_estimators=n, n_jobs=-1)\n",
    "\n",
    "    score = cross_val_score(model_rf, X_full, y_full, cv=3, scoring='r2').mean()\n",
    "\n",
    "    print('r2:', score)"
   ]
  },
  {
   "cell_type": "markdown",
   "metadata": {},
   "source": [
    "Мы видим, что чем больше деревьев в лесе, тем дольше он обучается. Однако качество алгоритма при 1000 и 10000 деревьев различается незначительно. Добавим в предыдущий цикл время работы алгоритма."
   ]
  },
  {
   "cell_type": "code",
   "execution_count": 15,
   "metadata": {},
   "outputs": [
    {
     "name": "stdout",
     "output_type": "stream",
     "text": [
      "n_estimators: 10\n",
      "time: 0.08707690238952637\n",
      "r2: 0.5566245068758956\n",
      "\n",
      "n_estimators: 100\n",
      "time: 0.6778302192687988\n",
      "r2: 0.5618055689555922\n",
      "\n",
      "n_estimators: 500\n",
      "time: 3.422924041748047\n",
      "r2: 0.5577660713020948\n",
      "\n",
      "n_estimators: 1000\n",
      "time: 6.454978942871094\n",
      "r2: 0.5563268080010206\n",
      "\n",
      "n_estimators: 10000\n",
      "time: 67.66514420509338\n",
      "r2: 0.5555449695414968\n",
      "\n"
     ]
    }
   ],
   "source": [
    "from time import time\n",
    "\n",
    "for n in [10, 100, 500, 1000, 10000]:\n",
    "    print('n_estimators:', n)\n",
    "    model_rf = RandomForestRegressor(n_estimators=n)\n",
    "\n",
    "    t_start = time()\n",
    "    \n",
    "    score = cross_val_score(model_rf, X_full, y_full, cv=3, scoring='r2').mean()\n",
    "\n",
    "    t_end = time()\n",
    "    print('time:', t_end-t_start)\n",
    "    print('r2:', score)\n",
    "    print()"
   ]
  },
  {
   "cell_type": "markdown",
   "metadata": {},
   "source": [
    "Решающий лес устроим таким образом, что чем больше деревьев в лесе, тем лучше качество предсказания. Однако, начиная с некоторого количества деревьев, качество увеличивается незначительно. А время, затрачиваемое на обучение алгоритма, увеличивается с увеличением числа деревьев. Построим график качества алгоритма в зависимости от количества деревьев."
   ]
  },
  {
   "cell_type": "code",
   "execution_count": 16,
   "metadata": {},
   "outputs": [
    {
     "name": "stderr",
     "output_type": "stream",
     "text": [
      "100%|██████████| 20/20 [02:18<00:00,  6.91s/it]\n"
     ]
    }
   ],
   "source": [
    "from tqdm import tqdm\n",
    "import numpy as np\n",
    "from sklearn.model_selection import cross_val_score\n",
    "from time import time\n",
    "\n",
    "r2_list = []\n",
    "time_list = []\n",
    "\n",
    "n_list = np.arange(10,2000,100)\n",
    "\n",
    "for n in tqdm(n_list):\n",
    "    model_rf = RandomForestRegressor(n_estimators=n)\n",
    "\n",
    "    t_start = time()\n",
    "\n",
    "    score = cross_val_score(model_rf, X_full, y_full, cv=3, scoring='r2').mean()\n",
    "\n",
    "    t_end = time()\n",
    "\n",
    "    r2_list.append(score)\n",
    "    time_list.append(t_end-t_start)"
   ]
  },
  {
   "cell_type": "code",
   "execution_count": 17,
   "metadata": {},
   "outputs": [
    {
     "name": "stdout",
     "output_type": "stream",
     "text": [
      "Populating the interactive namespace from numpy and matplotlib\n"
     ]
    },
    {
     "name": "stderr",
     "output_type": "stream",
     "text": [
      "/Users/vladtitov/opt/anaconda3/lib/python3.7/site-packages/IPython/core/magics/pylab.py:160: UserWarning: pylab import has clobbered these variables: ['time', 'plt']\n",
      "`%matplotlib` prevents importing * from pylab and numpy\n",
      "  \"\\n`%matplotlib` prevents importing * from pylab and numpy\"\n"
     ]
    },
    {
     "data": {
      "image/png": "[encoded data removed]",
      "text/plain": [
       "<Figure size 432x288 with 1 Axes>"
      ]
     },
     "metadata": {
      "needs_background": "light"
     },
     "output_type": "display_data"
    }
   ],
   "source": [
    "from matplotlib import pylab as plt\n",
    "%pylab inline\n",
    "\n",
    "plot(n_list, r2_list, '-o')\n",
    "show()"
   ]
  },
  {
   "cell_type": "code",
   "execution_count": 18,
   "metadata": {},
   "outputs": [
    {
     "data": {
      "image/png": "[encoded data removed]",
      "text/plain": [
       "<Figure size 432x288 with 1 Axes>"
      ]
     },
     "metadata": {
      "needs_background": "light"
     },
     "output_type": "display_data"
    }
   ],
   "source": [
    "plot(n_list, time_list, '-o')\n",
    "show()"
   ]
  },
  {
   "cell_type": "markdown",
   "metadata": {},
   "source": [
    "Будем использовать лес с 600 деревьями.\n",
    "\n",
    "Далее будем подбирать параметры max_depth, max_features и min_samples_split с помощью функции GridSearchCV."
   ]
  },
  {
   "cell_type": "code",
   "execution_count": 19,
   "metadata": {},
   "outputs": [
    {
     "data": {
      "text/plain": [
       "GridSearchCV(cv=3, error_score=nan,\n",
       "             estimator=RandomForestRegressor(bootstrap=True, ccp_alpha=0.0,\n",
       "                                             criterion='mse', max_depth=None,\n",
       "                                             max_features='auto',\n",
       "                                             max_leaf_nodes=None,\n",
       "                                             max_samples=None,\n",
       "                                             min_impurity_decrease=0.0,\n",
       "                                             min_impurity_split=None,\n",
       "                                             min_samples_leaf=1,\n",
       "                                             min_samples_split=2,\n",
       "                                             min_weight_fraction_leaf=0.0,\n",
       "                                             n_estimators=600, n_jobs=-1,\n",
       "                                             oob_score=False, random_state=123,\n",
       "                                             verbose=0, warm_start=False),\n",
       "             iid='deprecated', n_jobs=-1,\n",
       "             param_grid={'max_depth': [2, 6, 10, 20, 50],\n",
       "                         'max_features': [None, 'log2', 'sqrt']},\n",
       "             pre_dispatch='2*n_jobs', refit=True, return_train_score=False,\n",
       "             scoring='r2', verbose=0)"
      ]
     },
     "execution_count": 19,
     "metadata": {},
     "output_type": "execute_result"
    }
   ],
   "source": [
    "from sklearn.model_selection import GridSearchCV\n",
    "\n",
    "model_rf = RandomForestRegressor(n_estimators=600, n_jobs=-1, random_state=123)\n",
    "\n",
    "params = {'max_features': [None, 'log2', 'sqrt'], \n",
    "          'max_depth': [2, 6, 10, 20, 50]}\n",
    "\n",
    "gs = GridSearchCV(model_rf,\n",
    "                  params,\n",
    "                  cv=3,\n",
    "                  scoring='r2',\n",
    "                  n_jobs=-1)\n",
    "gs.fit(X_full, y_full)"
   ]
  },
  {
   "cell_type": "code",
   "execution_count": 20,
   "metadata": {},
   "outputs": [
    {
     "data": {
      "text/plain": [
       "(RandomForestRegressor(bootstrap=True, ccp_alpha=0.0, criterion='mse',\n",
       "                       max_depth=50, max_features='log2', max_leaf_nodes=None,\n",
       "                       max_samples=None, min_impurity_decrease=0.0,\n",
       "                       min_impurity_split=None, min_samples_leaf=1,\n",
       "                       min_samples_split=2, min_weight_fraction_leaf=0.0,\n",
       "                       n_estimators=600, n_jobs=-1, oob_score=False,\n",
       "                       random_state=123, verbose=0, warm_start=False),\n",
       " 0.5587984047786853)"
      ]
     },
     "execution_count": 20,
     "metadata": {},
     "output_type": "execute_result"
    }
   ],
   "source": [
    "gs.best_estimator_, gs.best_score_"
   ]
  },
  {
   "cell_type": "markdown",
   "metadata": {},
   "source": [
    "### Задание 4. \n",
    "\n",
    "Попробуйте одновременно подбрать max_features, max_depth и min_samples_leaf. Последний параметр ищите по списку [1, 5, 10, 15, 20].\n",
    "\n",
    "Улучшилось ли качество алгоритма при одновременном подборе трех параметров?"
   ]
  },
  {
   "cell_type": "code",
   "execution_count": 27,
   "metadata": {},
   "outputs": [
    {
     "name": "stderr",
     "output_type": "stream",
     "text": [
      "C:\\Users\\elena\\Anaconda3\\lib\\site-packages\\sklearn\\model_selection\\_search.py:841: DeprecationWarning: The default of the `iid` parameter will change from True to False in version 0.22 and will be removed in 0.24. This will change numeric results when test-set sizes are unequal.\n",
      "  DeprecationWarning)\n"
     ]
    },
    {
     "data": {
      "text/plain": [
       "GridSearchCV(cv=3, error_score='raise-deprecating',\n",
       "       estimator=RandomForestRegressor(bootstrap=True, criterion='mse', max_depth=None,\n",
       "           max_features='auto', max_leaf_nodes=None,\n",
       "           min_impurity_decrease=0.0, min_impurity_split=None,\n",
       "           min_samples_leaf=1, min_samples_split=2,\n",
       "           min_weight_fraction_leaf=0.0, n_estimators=600, n_jobs=-1,\n",
       "           oob_score=False, random_state=123, verbose=0, warm_start=False),\n",
       "       fit_params=None, iid='warn', n_jobs=-1,\n",
       "       param_grid={'max_features': [None, 'log2', 'sqrt'], 'max_depth': [2, 6, 10, 20, 50], 'min_samples_leaf': [1, 5, 10, 15, 20]},\n",
       "       pre_dispatch='2*n_jobs', refit=True, return_train_score='warn',\n",
       "       scoring='r2', verbose=0)"
      ]
     },
     "execution_count": 27,
     "metadata": {},
     "output_type": "execute_result"
    }
   ],
   "source": [
    "from sklearn.model_selection import GridSearchCV\n",
    "\n",
    "model_rf = RandomForestRegressor(n_estimators=600, n_jobs=-1, random_state=123)\n",
    "\n",
    "params = {'max_features': [None, 'log2', 'sqrt'], \n",
    "          'max_depth': [2, 6, 10, 20, 50],\n",
    "          'min_samples_leaf': [1, 5, 10, 15, 20]}\n",
    "\n",
    "gs = GridSearchCV(model_rf,\n",
    "                  params,\n",
    "                  cv=3,\n",
    "                  scoring='r2',\n",
    "                  n_jobs=-1)\n",
    "gs.fit(X_full, y_full)"
   ]
  },
  {
   "cell_type": "code",
   "execution_count": 28,
   "metadata": {},
   "outputs": [
    {
     "data": {
      "text/plain": [
       "(RandomForestRegressor(bootstrap=True, criterion='mse', max_depth=20,\n",
       "            max_features=None, max_leaf_nodes=None,\n",
       "            min_impurity_decrease=0.0, min_impurity_split=None,\n",
       "            min_samples_leaf=5, min_samples_split=2,\n",
       "            min_weight_fraction_leaf=0.0, n_estimators=600, n_jobs=-1,\n",
       "            oob_score=False, random_state=123, verbose=0, warm_start=False),\n",
       " 0.5599514844492924)"
      ]
     },
     "execution_count": 28,
     "metadata": {},
     "output_type": "execute_result"
    }
   ],
   "source": [
    "gs.best_estimator_, gs.best_score_"
   ]
  },
  {
   "cell_type": "markdown",
   "metadata": {},
   "source": [
    "## 2. Решающий лес vs градиентный бустинг.\n",
    "\n",
    "Теперь будем решать задачу классификации ([Kaggle: Predicting a Biological Response](https://www.kaggle.com/c/bioresponse))."
   ]
  },
  {
   "cell_type": "code",
   "execution_count": 21,
   "metadata": {},
   "outputs": [
    {
     "name": "stdout",
     "output_type": "stream",
     "text": [
      "(3751, 1777)\n"
     ]
    }
   ],
   "source": [
    "import pandas as pd\n",
    "from sklearn.model_selection import train_test_split\n",
    "\n",
    "data = pd.read_csv('train.csv')\n",
    "print(data.shape)\n",
    "X = data.iloc[:, 1:].values\n",
    "y = data.iloc[:, 0].values\n",
    "\n",
    "Xtrain, Xtest, ytrain, ytest = train_test_split(X, y, test_size=0.8, random_state=241)"
   ]
  },
  {
   "cell_type": "code",
   "execution_count": 22,
   "metadata": {},
   "outputs": [
    {
     "data": {
      "text/plain": [
       "(1717, 2034)"
      ]
     },
     "execution_count": 22,
     "metadata": {},
     "output_type": "execute_result"
    }
   ],
   "source": [
    "len(y[y==0]), len(y[y==1])"
   ]
  },
  {
   "cell_type": "markdown",
   "metadata": {},
   "source": [
    "### Задание 5.\n",
    "\n",
    "Посмотрите на качество решающего леса с 10 деревьями на кросс-валидации (здесь метрика - accuracy, её можно не передавать в функцию cross_val_score, так как она там стоит по умолчанию для задачи классификации)."
   ]
  },
  {
   "cell_type": "code",
   "execution_count": 23,
   "metadata": {},
   "outputs": [
    {
     "name": "stdout",
     "output_type": "stream",
     "text": [
      "0.7555333866240342\n"
     ]
    }
   ],
   "source": [
    "from sklearn.ensemble import RandomForestClassifier, GradientBoostingClassifier\n",
    "\n",
    "model_rf = RandomForestClassifier(n_estimators=10)\n",
    "\n",
    "score = cross_val_score(model_rf, X, y, cv=3).mean()\n",
    "\n",
    "print(score)\n",
    "\n",
    "#your code here"
   ]
  },
  {
   "cell_type": "markdown",
   "metadata": {},
   "source": [
    "### Задание 6.\n",
    "\n",
    "Посмотрите на качество градиентного бустинга с 10 деревьями на кросс-валидации."
   ]
  },
  {
   "cell_type": "code",
   "execution_count": 24,
   "metadata": {},
   "outputs": [
    {
     "name": "stdout",
     "output_type": "stream",
     "text": [
      "0.7637964295230483\n"
     ]
    }
   ],
   "source": [
    "#your code here\n",
    "\n",
    "model_gb = GradientBoostingClassifier(n_estimators=10)\n",
    "\n",
    "score = cross_val_score(model_gb, X, y, cv=3).mean()\n",
    "\n",
    "print(score)\n"
   ]
  },
  {
   "cell_type": "markdown",
   "metadata": {},
   "source": [
    "Нарисуем графики качества леса на тренировочной и тестовой выборках в зависимости от числа деревьев. Также нарисуем график времени работы алгоритма от числа деревьев."
   ]
  },
  {
   "cell_type": "code",
   "execution_count": 25,
   "metadata": {},
   "outputs": [
    {
     "name": "stderr",
     "output_type": "stream",
     "text": [
      "100%|██████████| 12/12 [00:06<00:00,  1.74it/s]\n"
     ]
    }
   ],
   "source": [
    "from sklearn.metrics import accuracy_score\n",
    "from time import time\n",
    "\n",
    "acc_train = []\n",
    "acc_test = []\n",
    "time_list = []\n",
    "\n",
    "n_list = np.arange(10,250,20)\n",
    "\n",
    "for n in tqdm(n_list):\n",
    "    model_rf = RandomForestClassifier(n_estimators=n)\n",
    "\n",
    "    t_start = time()\n",
    "    model_rf.fit(Xtrain, ytrain)\n",
    "\n",
    "    pred_train = model_rf.predict(Xtrain)\n",
    "    acc_train.append(accuracy_score(ytrain, pred_train))\n",
    "    \n",
    "    pred_test = model_rf.predict(Xtest)\n",
    "    acc_test.append(accuracy_score(ytest, pred_test))\n",
    "\n",
    "    t_end = time()\n",
    "\n",
    "    time_list.append(t_end-t_start)"
   ]
  },
  {
   "cell_type": "code",
   "execution_count": 26,
   "metadata": {},
   "outputs": [
    {
     "data": {
      "text/plain": [
       "Text(0.5, 1.0, 'Time')"
      ]
     },
     "execution_count": 26,
     "metadata": {},
     "output_type": "execute_result"
    },
    {
     "data": {
      "image/png": "[encoded data removed]",
      "text/plain": [
       "<Figure size 864x288 with 3 Axes>"
      ]
     },
     "metadata": {
      "needs_background": "light"
     },
     "output_type": "display_data"
    }
   ],
   "source": [
    "figure(figsize=(12, 4))\n",
    "subplot(1, 3, 1)\n",
    "plot(n_list, acc_train, label='RF_train')\n",
    "plt.legend()\n",
    "plt.title('Train')\n",
    "plt.subplot(1, 3, 2)\n",
    "plot(n_list, acc_test, label='RF_test')\n",
    "plt.legend()\n",
    "plt.title('Test')\n",
    "plt.subplot(1, 3, 3)\n",
    "plot(n_list, time_list, label='RF_time')\n",
    "plt.legend()\n",
    "plt.title('Time')"
   ]
  },
  {
   "cell_type": "markdown",
   "metadata": {},
   "source": [
    "### Задание 7.\n",
    "\n",
    "Теперь посмотрим, как меняется качество бустинга при увеличении числа деревьев. \n",
    "\n",
    "Постройте аналогичные графики, но для градиентного бустинга."
   ]
  },
  {
   "cell_type": "code",
   "execution_count": 27,
   "metadata": {},
   "outputs": [
    {
     "name": "stderr",
     "output_type": "stream",
     "text": [
      "100%|██████████| 12/12 [01:02<00:00,  5.24s/it]\n"
     ]
    }
   ],
   "source": [
    "acc_train = []\n",
    "acc_test = []\n",
    "time_list = []\n",
    "\n",
    "n_list = np.arange(10,250,20)\n",
    "\n",
    "for n in tqdm(n_list):\n",
    "    model_gb = GradientBoostingClassifier(n_estimators=n)\n",
    "\n",
    "    t_start = time()\n",
    "    model_gb.fit(Xtrain, ytrain)\n",
    "\n",
    "    pred_train = model_gb.predict(Xtrain)\n",
    "    acc_train.append(accuracy_score(ytrain, pred_train))\n",
    "    \n",
    "    pred_test = model_gb.predict(Xtest)\n",
    "    acc_test.append(accuracy_score(ytest, pred_test))\n",
    "\n",
    "    t_end = time()\n",
    "\n",
    "    time_list.append(t_end-t_start)"
   ]
  },
  {
   "cell_type": "code",
   "execution_count": 28,
   "metadata": {},
   "outputs": [
    {
     "data": {
      "text/plain": [
       "Text(0.5, 1.0, 'Time')"
      ]
     },
     "execution_count": 28,
     "metadata": {},
     "output_type": "execute_result"
    },
    {
     "data": {
      "image/png": "[encoded data removed]",
      "text/plain": [
       "<Figure size 864x288 with 3 Axes>"
      ]
     },
     "metadata": {
      "needs_background": "light"
     },
     "output_type": "display_data"
    }
   ],
   "source": [
    "figure(figsize=(12, 4))\n",
    "subplot(1, 3, 1)\n",
    "plot(n_list, acc_train, label='GB_train')\n",
    "plt.legend()\n",
    "plt.title('Train')\n",
    "plt.subplot(1, 3, 2)\n",
    "plot(n_list, acc_test, label='GB_test')\n",
    "plt.legend()\n",
    "plt.title('Test')\n",
    "plt.subplot(1, 3, 3)\n",
    "plot(n_list, time_list, label='GB_time')\n",
    "plt.legend()\n",
    "plt.title('Time')"
   ]
  },
  {
   "cell_type": "markdown",
   "metadata": {},
   "source": [
    "Мы видим, что у бустинга ошибка на Train всё время уменьшается, а ошибка на Test начинает расти, начиная с некоторого количества деревьев. То есть, начиная с этого числа деревьев алгоритм переобучается. Значит, нам надо остановиться на \n",
    "некотором числе деревьев, которому на графике ошибки на тесте соответствует наименьшая ошибка.\n",
    "\n",
    "### Задание 8. \n",
    "\n",
    "После выбора числа деревьев остальные параметры у бустинга можно подбирать с помощью GridSearchCV.\n",
    "Подберите max_features, max_depth и min_samples_leaf для бустинга с помощью GridSearchCV. "
   ]
  },
  {
   "cell_type": "code",
   "execution_count": null,
   "metadata": {},
   "outputs": [],
   "source": [
    "#your code here"
   ]
  },
  {
   "cell_type": "code",
   "execution_count": null,
   "metadata": {},
   "outputs": [],
   "source": [
    "gs.best_estimator_, gs.best_score_"
   ]
  },
  {
   "cell_type": "markdown",
   "metadata": {},
   "source": [
    "### Вывод.\n",
    "\n",
    "И решающий лес, и градиентный бустинг - это мощные ансамблевые алгоритмы, которые при должной настройке параметров показывают хорошее качество работы. Но надо помнить, что градиентный бустинг имеет склонность к переобучению с увеличением числа деревьев, и аккуратно подбирать число деревьев для алгоритма. "
   ]
  }
 ],
 "metadata": {
  "kernelspec": {
   "display_name": "Python 3",
   "language": "python",
   "name": "python3"
  },
  "language_info": {
   "codemirror_mode": {
    "name": "ipython",
    "version": 3
   },
   "file_extension": ".py",
   "mimetype": "text/x-python",
   "name": "python",
   "nbconvert_exporter": "python",
   "pygments_lexer": "ipython3",
   "version": "3.7.6"
  }
 },
 "nbformat": 4,
 "nbformat_minor": 1
}
